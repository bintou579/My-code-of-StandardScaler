{
 "cells": [
  {
   "cell_type": "markdown",
   "metadata": {
    "colab_type": "text",
    "id": "zqBUKLPsrxYq"
   },
   "source": [
    "Créer une class StandardScaler2 avec comme méthode fit, transform, fit_transform et en attribut un dicitonnaire params_ qui contient la moyenne et l'écart_type de vos données. Les données en entrées sont uniquement de array numpy (pas des dataframes) me dire que vous avez terminé avant de faire le bonus. en bonus :\n",
    "\n",
    "mettre une erreur si on essaye de transform sans avoir de fit\n",
    "permettre au code de fonctionner, peut importe si l'entrée est une numpy array ou une dataframe"
   ]
  },
  {
   "cell_type": "code",
   "execution_count": 1,
   "metadata": {
    "colab": {},
    "colab_type": "code",
    "id": "JE7BHvmhr6v7"
   },
   "outputs": [],
   "source": [
    "from sklearn import preprocessing\n",
    "import numpy as np"
   ]
  },
  {
   "cell_type": "code",
   "execution_count": 10,
   "metadata": {
    "colab": {},
    "colab_type": "code",
    "id": "Yd1TvYRzu6KP"
   },
   "outputs": [],
   "source": [
    "class StandardScaler2:\n",
    "    def __init__(self):\n",
    "        self.params_ = {'mean':[], 'std':[]}\n",
    "    def fit(self, x):\n",
    "      self.params_['mean'] = np.mean(x, axis=0)\n",
    "      self.params_['std'] =  np.std(x, axi=0)\n",
    "     \n",
    "\n",
    "    def transform(self, x):\n",
    "      normalize = []\n",
    "      for row in x:\n",
    "        normal = [(row[i] - self.params_['mean'][i])/ self.params_['std'][i] for i in range(len(x))]\n",
    "        normalize.append(normal)\n",
    "      print(normalize)\n",
    "      return normalize\n",
    "   \n",
    "    def fit_tranform(self, x):\n",
    "      return self.fit(x).transform(x)"
   ]
  },
  {
   "cell_type": "code",
   "execution_count": 11,
   "metadata": {
    "colab": {
     "base_uri": "https://localhost:8080/",
     "height": 51
    },
    "colab_type": "code",
    "id": "gtRp8aXmvEli",
    "outputId": "bb443931-1673-4393-cf80-83b66d3600bc"
   },
   "outputs": [
    {
     "name": "stdout",
     "output_type": "stream",
     "text": [
      "[[ 1. -1. -1.]\n",
      " [-1.  1.  1.]]\n"
     ]
    }
   ],
   "source": [
    "X = np.array([[1, 0, 1], [0, 1, 2]])\n",
    "\n",
    "scaler = preprocessing.StandardScaler().fit(X)\n",
    "print(scaler.transform(X))\n"
   ]
  },
  {
   "cell_type": "code",
   "execution_count": 12,
   "metadata": {
    "colab": {
     "base_uri": "https://localhost:8080/",
     "height": 34
    },
    "colab_type": "code",
    "id": "CW7C-5mAAV26",
    "outputId": "c7f870e6-e7ad-4aba-cb84-235fb35956f6"
   },
   "outputs": [
    {
     "name": "stdout",
     "output_type": "stream",
     "text": [
      "StandardScaler(copy=True, with_mean=True, with_std=True)\n"
     ]
    }
   ],
   "source": [
    "print(scaler.fit(X))"
   ]
  }
 ],
 "metadata": {
  "colab": {
   "name": "Class bintou ipynb",
   "provenance": []
  },
  "kernelspec": {
   "display_name": "Python 3",
   "language": "python",
   "name": "python3"
  },
  "language_info": {
   "codemirror_mode": {
    "name": "ipython",
    "version": 3
   },
   "file_extension": ".py",
   "mimetype": "text/x-python",
   "name": "python",
   "nbconvert_exporter": "python",
   "pygments_lexer": "ipython3",
   "version": "3.7.4"
  },
  "varInspector": {
   "cols": {
    "lenName": 16,
    "lenType": 16,
    "lenVar": 40
   },
   "kernels_config": {
    "python": {
     "delete_cmd_postfix": "",
     "delete_cmd_prefix": "del ",
     "library": "var_list.py",
     "varRefreshCmd": "print(var_dic_list())"
    },
    "r": {
     "delete_cmd_postfix": ") ",
     "delete_cmd_prefix": "rm(",
     "library": "var_list.r",
     "varRefreshCmd": "cat(var_dic_list()) "
    }
   },
   "types_to_exclude": [
    "module",
    "function",
    "builtin_function_or_method",
    "instance",
    "_Feature"
   ],
   "window_display": false
  }
 },
 "nbformat": 4,
 "nbformat_minor": 1
}
